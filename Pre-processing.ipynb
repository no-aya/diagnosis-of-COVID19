{
 "cells": [
  {
   "cell_type": "markdown",
   "source": [
    "# Pre-processing"
   ],
   "metadata": {
    "collapsed": false
   }
  },
  {
   "cell_type": "code",
   "execution_count": 1,
   "outputs": [],
   "source": [
    "import numpy as np\n",
    "import pandas as pd\n",
    "import matplotlib.pyplot as plt\n",
    "import seaborn as sns"
   ],
   "metadata": {
    "collapsed": false,
    "ExecuteTime": {
     "end_time": "2023-07-01T01:03:54.541107100Z",
     "start_time": "2023-07-01T01:03:54.034694Z"
    }
   }
  },
  {
   "cell_type": "code",
   "execution_count": 2,
   "outputs": [],
   "source": [
    "data = pd.read_excel('datasets/dataset.xlsx')\n"
   ],
   "metadata": {
    "collapsed": false,
    "ExecuteTime": {
     "end_time": "2023-07-01T01:03:58.467475Z",
     "start_time": "2023-07-01T01:03:54.364651500Z"
    }
   }
  },
  {
   "cell_type": "code",
   "execution_count": 3,
   "outputs": [],
   "source": [
    "df=data.copy()"
   ],
   "metadata": {
    "collapsed": false,
    "ExecuteTime": {
     "end_time": "2023-07-01T01:03:58.487068500Z",
     "start_time": "2023-07-01T01:03:58.471045700Z"
    }
   }
  },
  {
   "cell_type": "code",
   "execution_count": 4,
   "outputs": [
    {
     "data": {
      "text/plain": "        Patient ID  Patient age quantile SARS-Cov-2 exam result  \\\n0  44477f75e8169d2                    13               negative   \n1  126e9dd13932f68                    17               negative   \n2  a46b4402a0e5696                     8               negative   \n3  f7d619a94f97c45                     5               negative   \n4  d9e41465789c2b5                    15               negative   \n\n   Patient addmited to regular ward (1=yes, 0=no)  \\\n0                                               0   \n1                                               0   \n2                                               0   \n3                                               0   \n4                                               0   \n\n   Patient addmited to semi-intensive unit (1=yes, 0=no)  \\\n0                                                  0       \n1                                                  0       \n2                                                  0       \n3                                                  0       \n4                                                  0       \n\n   Patient addmited to intensive care unit (1=yes, 0=no)  Hematocrit  \\\n0                                                  0             NaN   \n1                                                  0        0.236515   \n2                                                  0             NaN   \n3                                                  0             NaN   \n4                                                  0             NaN   \n\n   Hemoglobin  Platelets  Mean platelet volume   ...  \\\n0         NaN        NaN                    NaN  ...   \n1    -0.02234  -0.517413               0.010677  ...   \n2         NaN        NaN                    NaN  ...   \n3         NaN        NaN                    NaN  ...   \n4         NaN        NaN                    NaN  ...   \n\n   Hb saturation (arterial blood gases)  pCO2 (arterial blood gas analysis)  \\\n0                                   NaN                                 NaN   \n1                                   NaN                                 NaN   \n2                                   NaN                                 NaN   \n3                                   NaN                                 NaN   \n4                                   NaN                                 NaN   \n\n   Base excess (arterial blood gas analysis)  \\\n0                                        NaN   \n1                                        NaN   \n2                                        NaN   \n3                                        NaN   \n4                                        NaN   \n\n   pH (arterial blood gas analysis)  Total CO2 (arterial blood gas analysis)  \\\n0                               NaN                                      NaN   \n1                               NaN                                      NaN   \n2                               NaN                                      NaN   \n3                               NaN                                      NaN   \n4                               NaN                                      NaN   \n\n   HCO3 (arterial blood gas analysis)  pO2 (arterial blood gas analysis)  \\\n0                                 NaN                                NaN   \n1                                 NaN                                NaN   \n2                                 NaN                                NaN   \n3                                 NaN                                NaN   \n4                                 NaN                                NaN   \n\n   Arteiral Fio2  Phosphor  ctO2 (arterial blood gas analysis)  \n0            NaN       NaN                                 NaN  \n1            NaN       NaN                                 NaN  \n2            NaN       NaN                                 NaN  \n3            NaN       NaN                                 NaN  \n4            NaN       NaN                                 NaN  \n\n[5 rows x 111 columns]",
      "text/html": "<div>\n<style scoped>\n    .dataframe tbody tr th:only-of-type {\n        vertical-align: middle;\n    }\n\n    .dataframe tbody tr th {\n        vertical-align: top;\n    }\n\n    .dataframe thead th {\n        text-align: right;\n    }\n</style>\n<table border=\"1\" class=\"dataframe\">\n  <thead>\n    <tr style=\"text-align: right;\">\n      <th></th>\n      <th>Patient ID</th>\n      <th>Patient age quantile</th>\n      <th>SARS-Cov-2 exam result</th>\n      <th>Patient addmited to regular ward (1=yes, 0=no)</th>\n      <th>Patient addmited to semi-intensive unit (1=yes, 0=no)</th>\n      <th>Patient addmited to intensive care unit (1=yes, 0=no)</th>\n      <th>Hematocrit</th>\n      <th>Hemoglobin</th>\n      <th>Platelets</th>\n      <th>Mean platelet volume</th>\n      <th>...</th>\n      <th>Hb saturation (arterial blood gases)</th>\n      <th>pCO2 (arterial blood gas analysis)</th>\n      <th>Base excess (arterial blood gas analysis)</th>\n      <th>pH (arterial blood gas analysis)</th>\n      <th>Total CO2 (arterial blood gas analysis)</th>\n      <th>HCO3 (arterial blood gas analysis)</th>\n      <th>pO2 (arterial blood gas analysis)</th>\n      <th>Arteiral Fio2</th>\n      <th>Phosphor</th>\n      <th>ctO2 (arterial blood gas analysis)</th>\n    </tr>\n  </thead>\n  <tbody>\n    <tr>\n      <th>0</th>\n      <td>44477f75e8169d2</td>\n      <td>13</td>\n      <td>negative</td>\n      <td>0</td>\n      <td>0</td>\n      <td>0</td>\n      <td>NaN</td>\n      <td>NaN</td>\n      <td>NaN</td>\n      <td>NaN</td>\n      <td>...</td>\n      <td>NaN</td>\n      <td>NaN</td>\n      <td>NaN</td>\n      <td>NaN</td>\n      <td>NaN</td>\n      <td>NaN</td>\n      <td>NaN</td>\n      <td>NaN</td>\n      <td>NaN</td>\n      <td>NaN</td>\n    </tr>\n    <tr>\n      <th>1</th>\n      <td>126e9dd13932f68</td>\n      <td>17</td>\n      <td>negative</td>\n      <td>0</td>\n      <td>0</td>\n      <td>0</td>\n      <td>0.236515</td>\n      <td>-0.02234</td>\n      <td>-0.517413</td>\n      <td>0.010677</td>\n      <td>...</td>\n      <td>NaN</td>\n      <td>NaN</td>\n      <td>NaN</td>\n      <td>NaN</td>\n      <td>NaN</td>\n      <td>NaN</td>\n      <td>NaN</td>\n      <td>NaN</td>\n      <td>NaN</td>\n      <td>NaN</td>\n    </tr>\n    <tr>\n      <th>2</th>\n      <td>a46b4402a0e5696</td>\n      <td>8</td>\n      <td>negative</td>\n      <td>0</td>\n      <td>0</td>\n      <td>0</td>\n      <td>NaN</td>\n      <td>NaN</td>\n      <td>NaN</td>\n      <td>NaN</td>\n      <td>...</td>\n      <td>NaN</td>\n      <td>NaN</td>\n      <td>NaN</td>\n      <td>NaN</td>\n      <td>NaN</td>\n      <td>NaN</td>\n      <td>NaN</td>\n      <td>NaN</td>\n      <td>NaN</td>\n      <td>NaN</td>\n    </tr>\n    <tr>\n      <th>3</th>\n      <td>f7d619a94f97c45</td>\n      <td>5</td>\n      <td>negative</td>\n      <td>0</td>\n      <td>0</td>\n      <td>0</td>\n      <td>NaN</td>\n      <td>NaN</td>\n      <td>NaN</td>\n      <td>NaN</td>\n      <td>...</td>\n      <td>NaN</td>\n      <td>NaN</td>\n      <td>NaN</td>\n      <td>NaN</td>\n      <td>NaN</td>\n      <td>NaN</td>\n      <td>NaN</td>\n      <td>NaN</td>\n      <td>NaN</td>\n      <td>NaN</td>\n    </tr>\n    <tr>\n      <th>4</th>\n      <td>d9e41465789c2b5</td>\n      <td>15</td>\n      <td>negative</td>\n      <td>0</td>\n      <td>0</td>\n      <td>0</td>\n      <td>NaN</td>\n      <td>NaN</td>\n      <td>NaN</td>\n      <td>NaN</td>\n      <td>...</td>\n      <td>NaN</td>\n      <td>NaN</td>\n      <td>NaN</td>\n      <td>NaN</td>\n      <td>NaN</td>\n      <td>NaN</td>\n      <td>NaN</td>\n      <td>NaN</td>\n      <td>NaN</td>\n      <td>NaN</td>\n    </tr>\n  </tbody>\n</table>\n<p>5 rows × 111 columns</p>\n</div>"
     },
     "execution_count": 4,
     "metadata": {},
     "output_type": "execute_result"
    }
   ],
   "source": [
    "df.head()"
   ],
   "metadata": {
    "collapsed": false,
    "ExecuteTime": {
     "end_time": "2023-07-01T01:03:58.892215200Z",
     "start_time": "2023-07-01T01:03:58.489487Z"
    }
   }
  },
  {
   "cell_type": "markdown",
   "source": [
    "## Creating sub-categories (following EDA)"
   ],
   "metadata": {
    "collapsed": false
   }
  },
  {
   "cell_type": "code",
   "execution_count": 5,
   "outputs": [],
   "source": [
    "# Missing rate is the percentage pf NaN values in each column\n",
    "missing_rate = df.isna().sum()/df.shape[0]"
   ],
   "metadata": {
    "collapsed": false,
    "ExecuteTime": {
     "end_time": "2023-07-01T01:03:59.064013500Z",
     "start_time": "2023-07-01T01:03:58.896400800Z"
    }
   }
  },
  {
   "cell_type": "code",
   "execution_count": 6,
   "outputs": [],
   "source": [
    "# keeping only the columns that are valuable to our study\n",
    "blood_columns = list(df.columns[(missing_rate < 0.9) &(missing_rate > 0.88)])\n",
    "viral_columns = list(df.columns[(missing_rate < 0.80)&(missing_rate > 0.75)])"
   ],
   "metadata": {
    "collapsed": false,
    "ExecuteTime": {
     "end_time": "2023-07-01T01:03:59.120180Z",
     "start_time": "2023-07-01T01:03:58.951112500Z"
    }
   }
  },
  {
   "cell_type": "code",
   "execution_count": 7,
   "outputs": [],
   "source": [
    "key_columns = ['Patient age quantile','SARS-Cov-2 exam result']"
   ],
   "metadata": {
    "collapsed": false,
    "ExecuteTime": {
     "end_time": "2023-07-01T01:03:59.121176Z",
     "start_time": "2023-07-01T01:03:58.970579500Z"
    }
   }
  },
  {
   "cell_type": "code",
   "execution_count": 56,
   "outputs": [
    {
     "data": {
      "text/plain": "   Patient age quantile  SARS-Cov-2 exam result  Hematocrit  Hemoglobin  \\\n0                    13                       0         NaN         NaN   \n1                    17                       0    0.236515    -0.02234   \n2                     8                       0         NaN         NaN   \n3                     5                       0         NaN         NaN   \n4                    15                       0         NaN         NaN   \n\n   Platelets  Mean platelet volume   Red blood Cells  Lymphocytes  \\\n0        NaN                    NaN              NaN          NaN   \n1  -0.517413               0.010677         0.102004     0.318366   \n2        NaN                    NaN              NaN          NaN   \n3        NaN                    NaN              NaN          NaN   \n4        NaN                    NaN              NaN          NaN   \n\n   Mean corpuscular hemoglobin concentration (MCHC)  Leukocytes  Basophils  \\\n0                                               NaN         NaN        NaN   \n1                                          -0.95079    -0.09461  -0.223767   \n2                                               NaN         NaN        NaN   \n3                                               NaN         NaN        NaN   \n4                                               NaN         NaN        NaN   \n\n   Mean corpuscular hemoglobin (MCH)  Eosinophils  \\\n0                                NaN          NaN   \n1                          -0.292269     1.482158   \n2                                NaN          NaN   \n3                                NaN          NaN   \n4                                NaN          NaN   \n\n   Mean corpuscular volume (MCV)  Monocytes  \\\n0                            NaN        NaN   \n1                       0.166192   0.357547   \n2                            NaN        NaN   \n3                            NaN        NaN   \n4                            NaN        NaN   \n\n   Red blood cell distribution width (RDW)  \n0                                      NaN  \n1                                -0.625073  \n2                                      NaN  \n3                                      NaN  \n4                                      NaN  ",
      "text/html": "<div>\n<style scoped>\n    .dataframe tbody tr th:only-of-type {\n        vertical-align: middle;\n    }\n\n    .dataframe tbody tr th {\n        vertical-align: top;\n    }\n\n    .dataframe thead th {\n        text-align: right;\n    }\n</style>\n<table border=\"1\" class=\"dataframe\">\n  <thead>\n    <tr style=\"text-align: right;\">\n      <th></th>\n      <th>Patient age quantile</th>\n      <th>SARS-Cov-2 exam result</th>\n      <th>Hematocrit</th>\n      <th>Hemoglobin</th>\n      <th>Platelets</th>\n      <th>Mean platelet volume</th>\n      <th>Red blood Cells</th>\n      <th>Lymphocytes</th>\n      <th>Mean corpuscular hemoglobin concentration (MCHC)</th>\n      <th>Leukocytes</th>\n      <th>Basophils</th>\n      <th>Mean corpuscular hemoglobin (MCH)</th>\n      <th>Eosinophils</th>\n      <th>Mean corpuscular volume (MCV)</th>\n      <th>Monocytes</th>\n      <th>Red blood cell distribution width (RDW)</th>\n    </tr>\n  </thead>\n  <tbody>\n    <tr>\n      <th>0</th>\n      <td>13</td>\n      <td>0</td>\n      <td>NaN</td>\n      <td>NaN</td>\n      <td>NaN</td>\n      <td>NaN</td>\n      <td>NaN</td>\n      <td>NaN</td>\n      <td>NaN</td>\n      <td>NaN</td>\n      <td>NaN</td>\n      <td>NaN</td>\n      <td>NaN</td>\n      <td>NaN</td>\n      <td>NaN</td>\n      <td>NaN</td>\n    </tr>\n    <tr>\n      <th>1</th>\n      <td>17</td>\n      <td>0</td>\n      <td>0.236515</td>\n      <td>-0.02234</td>\n      <td>-0.517413</td>\n      <td>0.010677</td>\n      <td>0.102004</td>\n      <td>0.318366</td>\n      <td>-0.95079</td>\n      <td>-0.09461</td>\n      <td>-0.223767</td>\n      <td>-0.292269</td>\n      <td>1.482158</td>\n      <td>0.166192</td>\n      <td>0.357547</td>\n      <td>-0.625073</td>\n    </tr>\n    <tr>\n      <th>2</th>\n      <td>8</td>\n      <td>0</td>\n      <td>NaN</td>\n      <td>NaN</td>\n      <td>NaN</td>\n      <td>NaN</td>\n      <td>NaN</td>\n      <td>NaN</td>\n      <td>NaN</td>\n      <td>NaN</td>\n      <td>NaN</td>\n      <td>NaN</td>\n      <td>NaN</td>\n      <td>NaN</td>\n      <td>NaN</td>\n      <td>NaN</td>\n    </tr>\n    <tr>\n      <th>3</th>\n      <td>5</td>\n      <td>0</td>\n      <td>NaN</td>\n      <td>NaN</td>\n      <td>NaN</td>\n      <td>NaN</td>\n      <td>NaN</td>\n      <td>NaN</td>\n      <td>NaN</td>\n      <td>NaN</td>\n      <td>NaN</td>\n      <td>NaN</td>\n      <td>NaN</td>\n      <td>NaN</td>\n      <td>NaN</td>\n      <td>NaN</td>\n    </tr>\n    <tr>\n      <th>4</th>\n      <td>15</td>\n      <td>0</td>\n      <td>NaN</td>\n      <td>NaN</td>\n      <td>NaN</td>\n      <td>NaN</td>\n      <td>NaN</td>\n      <td>NaN</td>\n      <td>NaN</td>\n      <td>NaN</td>\n      <td>NaN</td>\n      <td>NaN</td>\n      <td>NaN</td>\n      <td>NaN</td>\n      <td>NaN</td>\n      <td>NaN</td>\n    </tr>\n  </tbody>\n</table>\n</div>"
     },
     "execution_count": 56,
     "metadata": {},
     "output_type": "execute_result"
    }
   ],
   "source": [
    "df = df[key_columns + blood_columns] #+ viral_columns]\n",
    "df.head()"
   ],
   "metadata": {
    "collapsed": false,
    "ExecuteTime": {
     "end_time": "2023-07-01T01:13:45.841964100Z",
     "start_time": "2023-07-01T01:13:45.519139700Z"
    }
   }
  },
  {
   "cell_type": "markdown",
   "source": [
    "## TrainTest-Cleaning-Encoding"
   ],
   "metadata": {
    "collapsed": false
   }
  },
  {
   "cell_type": "code",
   "execution_count": 9,
   "outputs": [],
   "source": [
    "from sklearn.model_selection import train_test_split"
   ],
   "metadata": {
    "collapsed": false,
    "ExecuteTime": {
     "end_time": "2023-07-01T01:03:59.893844600Z",
     "start_time": "2023-07-01T01:03:59.045158400Z"
    }
   }
  },
  {
   "cell_type": "code",
   "execution_count": 10,
   "outputs": [],
   "source": [
    "trainset, testset = train_test_split(df, test_size=0.2, random_state=0)"
   ],
   "metadata": {
    "collapsed": false,
    "ExecuteTime": {
     "end_time": "2023-07-01T01:03:59.914816200Z",
     "start_time": "2023-07-01T01:03:59.898999Z"
    }
   }
  },
  {
   "cell_type": "code",
   "execution_count": 11,
   "outputs": [
    {
     "data": {
      "text/plain": "negative    4068\npositive     447\nName: SARS-Cov-2 exam result, dtype: int64"
     },
     "execution_count": 11,
     "metadata": {},
     "output_type": "execute_result"
    }
   ],
   "source": [
    "trainset['SARS-Cov-2 exam result'].value_counts()"
   ],
   "metadata": {
    "collapsed": false,
    "ExecuteTime": {
     "end_time": "2023-07-01T01:03:59.946760200Z",
     "start_time": "2023-07-01T01:03:59.922320600Z"
    }
   }
  },
  {
   "cell_type": "code",
   "execution_count": 12,
   "outputs": [
    {
     "data": {
      "text/plain": "negative    1018\npositive     111\nName: SARS-Cov-2 exam result, dtype: int64"
     },
     "execution_count": 12,
     "metadata": {},
     "output_type": "execute_result"
    }
   ],
   "source": [
    "testset['SARS-Cov-2 exam result'].value_counts()"
   ],
   "metadata": {
    "collapsed": false,
    "ExecuteTime": {
     "end_time": "2023-07-01T01:03:59.995903400Z",
     "start_time": "2023-07-01T01:03:59.954914200Z"
    }
   }
  },
  {
   "cell_type": "markdown",
   "source": [
    "### Categories"
   ],
   "metadata": {
    "collapsed": false
   }
  },
  {
   "cell_type": "code",
   "execution_count": 13,
   "outputs": [
    {
     "name": "stdout",
     "output_type": "stream",
     "text": [
      "SARS-Cov-2 exam result---------------------------- ['negative' 'positive']\n",
      "Respiratory Syncytial Virus----------------------- [nan 'not_detected' 'detected']\n",
      "Influenza A--------------------------------------- [nan 'not_detected' 'detected']\n",
      "Influenza B--------------------------------------- [nan 'not_detected' 'detected']\n",
      "Parainfluenza 1----------------------------------- [nan 'not_detected' 'detected']\n",
      "CoronavirusNL63----------------------------------- [nan 'not_detected' 'detected']\n",
      "Rhinovirus/Enterovirus---------------------------- [nan 'detected' 'not_detected']\n",
      "Coronavirus HKU1---------------------------------- [nan 'not_detected' 'detected']\n",
      "Parainfluenza 3----------------------------------- [nan 'not_detected' 'detected']\n",
      "Chlamydophila pneumoniae-------------------------- [nan 'not_detected' 'detected']\n",
      "Adenovirus---------------------------------------- [nan 'not_detected' 'detected']\n",
      "Parainfluenza 4----------------------------------- [nan 'not_detected' 'detected']\n",
      "Coronavirus229E----------------------------------- [nan 'not_detected' 'detected']\n",
      "CoronavirusOC43----------------------------------- [nan 'not_detected' 'detected']\n",
      "Inf A H1N1 2009----------------------------------- [nan 'not_detected' 'detected']\n",
      "Bordetella pertussis------------------------------ [nan 'not_detected' 'detected']\n",
      "Metapneumovirus----------------------------------- [nan 'not_detected' 'detected']\n",
      "Parainfluenza 2----------------------------------- [nan 'not_detected']\n"
     ]
    }
   ],
   "source": [
    "for col in df.select_dtypes('object'):\n",
    "    print(f'{col :-<50} {df[col].unique()}')"
   ],
   "metadata": {
    "collapsed": false,
    "ExecuteTime": {
     "end_time": "2023-07-01T01:04:00.132920600Z",
     "start_time": "2023-07-01T01:03:59.968029400Z"
    }
   }
  },
  {
   "cell_type": "markdown",
   "source": [
    "## Encoding"
   ],
   "metadata": {
    "collapsed": false
   }
  },
  {
   "cell_type": "code",
   "execution_count": 14,
   "outputs": [],
   "source": [
    "code = {\n",
    "    'positive':1,\n",
    "    'negative':0,\n",
    "    'detected':1,\n",
    "    'not_detected':0\n",
    "}"
   ],
   "metadata": {
    "collapsed": false,
    "ExecuteTime": {
     "end_time": "2023-07-01T01:04:00.135066800Z",
     "start_time": "2023-07-01T01:04:00.008420800Z"
    }
   }
  },
  {
   "cell_type": "code",
   "execution_count": 15,
   "outputs": [],
   "source": [
    "for col in df.select_dtypes('object'):\n",
    "    df[col]=df[col].map(code)"
   ],
   "metadata": {
    "collapsed": false,
    "ExecuteTime": {
     "end_time": "2023-07-01T01:04:00.300406100Z",
     "start_time": "2023-07-01T01:04:00.039733700Z"
    }
   }
  },
  {
   "cell_type": "code",
   "execution_count": 16,
   "outputs": [],
   "source": [
    "# We can define a function to do the job\n",
    "def encoding(df):\n",
    "    code = {\n",
    "        'positive':1,\n",
    "        'negative':0,\n",
    "        'detected':1,\n",
    "        'not_detected':0\n",
    "    }\n",
    "    for col in df.select_dtypes('object'):\n",
    "        df[col]=df[col].map(code)\n",
    "    return df\n"
   ],
   "metadata": {
    "collapsed": false,
    "ExecuteTime": {
     "end_time": "2023-07-01T01:04:00.300912300Z",
     "start_time": "2023-07-01T01:04:00.160833600Z"
    }
   }
  },
  {
   "cell_type": "code",
   "execution_count": 67,
   "outputs": [],
   "source": [
    "def feature_engineering(df):\n",
    "    df['is sick'] = df[viral_columns].sum(axis=1) >=1\n",
    "    df=df.drop(viral_columns,axis=1)\n",
    "    return df"
   ],
   "metadata": {
    "collapsed": false,
    "ExecuteTime": {
     "end_time": "2023-07-01T01:24:47.703405200Z",
     "start_time": "2023-07-01T01:24:47.651080300Z"
    }
   }
  },
  {
   "cell_type": "code",
   "execution_count": 44,
   "outputs": [],
   "source": [
    "def imputation(df):\n",
    "    #df['is na']=(df['Parainfluenza 3'].isna()) | (df['Leukocytes'].isna())\n",
    "    #df = df.fillna(-999)\n",
    "    df = df.dropna(axis=0)\n",
    "    return df"
   ],
   "metadata": {
    "collapsed": false,
    "ExecuteTime": {
     "end_time": "2023-07-01T01:07:29.743747Z",
     "start_time": "2023-07-01T01:07:29.705265600Z"
    }
   }
  },
  {
   "cell_type": "code",
   "execution_count": 68,
   "outputs": [],
   "source": [
    "def preprocessing(df):\n",
    "    df=encoding(df)\n",
    "    df = feature_engineering(df)\n",
    "    df=imputation(df)\n",
    "\n",
    "    X = df.drop('SARS-Cov-2 exam result',axis=1)\n",
    "    y = df['SARS-Cov-2 exam result']\n",
    "\n",
    "    print(y.value_counts())\n",
    "    return  X,y"
   ],
   "metadata": {
    "collapsed": false,
    "ExecuteTime": {
     "end_time": "2023-07-01T01:25:05.063985100Z",
     "start_time": "2023-07-01T01:25:05.028735200Z"
    }
   }
  },
  {
   "cell_type": "code",
   "execution_count": 69,
   "outputs": [
    {
     "name": "stdout",
     "output_type": "stream",
     "text": [
      "0    422\n",
      "1     65\n",
      "Name: SARS-Cov-2 exam result, dtype: int64\n"
     ]
    }
   ],
   "source": [
    "X_train, y_train = preprocessing(trainset)"
   ],
   "metadata": {
    "collapsed": false,
    "ExecuteTime": {
     "end_time": "2023-07-01T01:25:06.020385900Z",
     "start_time": "2023-07-01T01:25:05.931334800Z"
    }
   }
  },
  {
   "cell_type": "code",
   "execution_count": 70,
   "outputs": [
    {
     "name": "stdout",
     "output_type": "stream",
     "text": [
      "0    95\n",
      "1    16\n",
      "Name: SARS-Cov-2 exam result, dtype: int64\n"
     ]
    }
   ],
   "source": [
    "X_test,y_test = preprocessing(testset)"
   ],
   "metadata": {
    "collapsed": false,
    "ExecuteTime": {
     "end_time": "2023-07-01T01:25:06.721135600Z",
     "start_time": "2023-07-01T01:25:06.614938300Z"
    }
   }
  },
  {
   "cell_type": "markdown",
   "source": [
    "## Modeling"
   ],
   "metadata": {
    "collapsed": false
   }
  },
  {
   "cell_type": "code",
   "execution_count": 103,
   "outputs": [],
   "source": [
    "from sklearn.tree import DecisionTreeClassifier\n",
    "from sklearn.ensemble import RandomForestClassifier\n",
    "from sklearn.pipeline import  make_pipeline\n",
    "from sklearn.feature_selection import SelectKBest, f_classif\n",
    "from sklearn.preprocessing import PolynomialFeatures\n",
    "from sklearn.decomposition import PCA"
   ],
   "metadata": {
    "collapsed": false,
    "ExecuteTime": {
     "end_time": "2023-07-01T01:37:46.862852500Z",
     "start_time": "2023-07-01T01:37:46.846588300Z"
    }
   }
  },
  {
   "cell_type": "code",
   "execution_count": 104,
   "outputs": [],
   "source": [
    "#model = DecisionTreeClassifier(random_state=0)\n",
    "#model = RandomForestClassifier(random_state=0)\n",
    "model = make_pipeline(\n",
    "    PolynomialFeatures(2),\n",
    "    SelectKBest(f_classif, k=5),\n",
    "    RandomForestClassifier(random_state=0)\n",
    ")"
   ],
   "metadata": {
    "collapsed": false,
    "ExecuteTime": {
     "end_time": "2023-07-01T01:38:04.190436Z",
     "start_time": "2023-07-01T01:38:03.874031100Z"
    }
   }
  },
  {
   "cell_type": "markdown",
   "source": [
    "## Evaluation procedure"
   ],
   "metadata": {
    "collapsed": false
   }
  },
  {
   "cell_type": "code",
   "execution_count": 105,
   "outputs": [],
   "source": [
    "from sklearn.metrics import f1_score, confusion_matrix, classification_report\n",
    "from sklearn.model_selection import  learning_curve"
   ],
   "metadata": {
    "collapsed": false,
    "ExecuteTime": {
     "end_time": "2023-07-01T01:38:05.337577700Z",
     "start_time": "2023-07-01T01:38:05.251352600Z"
    }
   }
  },
  {
   "cell_type": "code",
   "execution_count": 106,
   "outputs": [],
   "source": [
    "def evaluation(model):\n",
    "    model.fit(X_train,y_train)\n",
    "    ypred = model.predict(X_test)\n",
    "\n",
    "    print(confusion_matrix(y_test,ypred))\n",
    "    print(classification_report(y_test,ypred))\n",
    "\n",
    "    N,train_score, val_score =learning_curve(model, X_train,y_train,cv=4,scoring='f1', train_sizes=np.linspace(0.1,1,10))\n",
    "\n",
    "    plt.figure(figsize=(12,8))\n",
    "    plt.plot(N, train_score.mean(axis=1), label='Train score')\n",
    "    plt.plot(N, val_score.mean(axis=1), label='Validation score')\n",
    "    plt.legend()"
   ],
   "metadata": {
    "collapsed": false,
    "ExecuteTime": {
     "end_time": "2023-07-01T01:38:06.186703400Z",
     "start_time": "2023-07-01T01:38:06.091141200Z"
    }
   }
  },
  {
   "cell_type": "code",
   "execution_count": 108,
   "outputs": [],
   "source": [
    "#Removing enoying warnings\n",
    "import warnings\n",
    "warnings.filterwarnings('ignore')"
   ],
   "metadata": {
    "collapsed": false,
    "ExecuteTime": {
     "end_time": "2023-07-01T01:39:09.606775Z",
     "start_time": "2023-07-01T01:39:09.560955300Z"
    }
   }
  },
  {
   "cell_type": "code",
   "execution_count": 109,
   "outputs": [
    {
     "name": "stdout",
     "output_type": "stream",
     "text": [
      "[[90  5]\n",
      " [11  5]]\n",
      "              precision    recall  f1-score   support\n",
      "\n",
      "           0       0.89      0.95      0.92        95\n",
      "           1       0.50      0.31      0.38        16\n",
      "\n",
      "    accuracy                           0.86       111\n",
      "   macro avg       0.70      0.63      0.65       111\n",
      "weighted avg       0.83      0.86      0.84       111\n",
      "\n"
     ]
    },
    {
     "data": {
      "text/plain": "<Figure size 1200x800 with 1 Axes>",
      "image/png": "[encoded data removed]"
     },
     "metadata": {},
     "output_type": "display_data"
    }
   ],
   "source": [
    "evaluation(model)"
   ],
   "metadata": {
    "collapsed": false,
    "ExecuteTime": {
     "end_time": "2023-07-01T01:39:32.420746400Z",
     "start_time": "2023-07-01T01:39:09.951224300Z"
    }
   }
  },
  {
   "cell_type": "code",
   "execution_count": null,
   "outputs": [],
   "source": [
    "pd.DataFrame(model.feature_importances_, index=X_train.columns).plot.bar()"
   ],
   "metadata": {
    "collapsed": false
   }
  },
  {
   "cell_type": "code",
   "execution_count": null,
   "outputs": [],
   "source": [],
   "metadata": {
    "collapsed": false
   }
  }
 ],
 "metadata": {
  "kernelspec": {
   "display_name": "Python 3",
   "language": "python",
   "name": "python3"
  },
  "language_info": {
   "codemirror_mode": {
    "name": "ipython",
    "version": 2
   },
   "file_extension": ".py",
   "mimetype": "text/x-python",
   "name": "python",
   "nbconvert_exporter": "python",
   "pygments_lexer": "ipython2",
   "version": "2.7.6"
  }
 },
 "nbformat": 4,
 "nbformat_minor": 0
}
